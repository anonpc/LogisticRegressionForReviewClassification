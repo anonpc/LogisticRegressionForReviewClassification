{
 "cells": [
  {
   "cell_type": "code",
   "execution_count": 1,
   "id": "82918b27",
   "metadata": {
    "execution": {
     "iopub.execute_input": "2024-10-01T23:14:30.477816Z",
     "iopub.status.busy": "2024-10-01T23:14:30.477329Z",
     "iopub.status.idle": "2024-10-01T23:14:32.239402Z",
     "shell.execute_reply": "2024-10-01T23:14:32.238228Z"
    },
    "papermill": {
     "duration": 1.771754,
     "end_time": "2024-10-01T23:14:32.242281",
     "exception": false,
     "start_time": "2024-10-01T23:14:30.470527",
     "status": "completed"
    },
    "tags": []
   },
   "outputs": [],
   "source": [
    "import os\n",
    "# import pandas as pd\n",
    "from sklearn.model_selection import train_test_split\n",
    "from sklearn.feature_extraction.text import CountVectorizer\n",
    "from sklearn.linear_model import LogisticRegression\n",
    "from sklearn.metrics import accuracy_score, classification_report\n",
    "\n",
    "import numpy as np"
   ]
  },
  {
   "cell_type": "code",
   "execution_count": 2,
   "id": "6c108b53",
   "metadata": {
    "execution": {
     "iopub.execute_input": "2024-10-01T23:14:32.254323Z",
     "iopub.status.busy": "2024-10-01T23:14:32.253746Z",
     "iopub.status.idle": "2024-10-01T23:14:32.262789Z",
     "shell.execute_reply": "2024-10-01T23:14:32.261550Z"
    },
    "papermill": {
     "duration": 0.018332,
     "end_time": "2024-10-01T23:14:32.265405",
     "exception": false,
     "start_time": "2024-10-01T23:14:32.247073",
     "status": "completed"
    },
    "tags": []
   },
   "outputs": [],
   "source": [
    "def load_data(directory):\n",
    "    reviews = []\n",
    "    labels = []\n",
    "    \n",
    "    for label in ['pos', 'neg']:\n",
    "        label_dir = os.path.join(directory, label)\n",
    "        for filename in os.listdir(label_dir):\n",
    "            if filename.endswith('.txt'):\n",
    "                with open(os.path.join(label_dir, filename), 'r', encoding='utf-8') as file:\n",
    "                    reviews.append(file.read())\n",
    "                    labels.append(1 if label == 'pos' else 0)  # 1 для положительных, 0 для отрицательных\n",
    "\n",
    "    return reviews, labels"
   ]
  },
  {
   "cell_type": "code",
   "execution_count": 3,
   "id": "1ab3884f",
   "metadata": {
    "execution": {
     "iopub.execute_input": "2024-10-01T23:14:32.276256Z",
     "iopub.status.busy": "2024-10-01T23:14:32.275801Z",
     "iopub.status.idle": "2024-10-01T23:18:06.216422Z",
     "shell.execute_reply": "2024-10-01T23:18:06.215214Z"
    },
    "papermill": {
     "duration": 213.94969,
     "end_time": "2024-10-01T23:18:06.219569",
     "exception": false,
     "start_time": "2024-10-01T23:14:32.269879",
     "status": "completed"
    },
    "tags": []
   },
   "outputs": [],
   "source": [
    "train_reviews, train_labels = load_data('/kaggle/input/greenatom-dataset/test/test')\n",
    "test_reviews, test_labels = load_data('/kaggle/input/greenatom-dataset/train/train')"
   ]
  },
  {
   "cell_type": "code",
   "execution_count": 4,
   "id": "a1879b37",
   "metadata": {
    "execution": {
     "iopub.execute_input": "2024-10-01T23:18:06.230469Z",
     "iopub.status.busy": "2024-10-01T23:18:06.230013Z",
     "iopub.status.idle": "2024-10-01T23:18:20.361602Z",
     "shell.execute_reply": "2024-10-01T23:18:20.360585Z"
    },
    "papermill": {
     "duration": 14.140183,
     "end_time": "2024-10-01T23:18:20.364399",
     "exception": false,
     "start_time": "2024-10-01T23:18:06.224216",
     "status": "completed"
    },
    "tags": []
   },
   "outputs": [],
   "source": [
    "vectorizer = CountVectorizer()\n",
    "X_train_vectorized = vectorizer.fit_transform(train_reviews)\n",
    "X_test_vectorized = vectorizer.transform(test_reviews)"
   ]
  },
  {
   "cell_type": "code",
   "execution_count": 5,
   "id": "b31e4d7c",
   "metadata": {
    "execution": {
     "iopub.execute_input": "2024-10-01T23:18:20.374796Z",
     "iopub.status.busy": "2024-10-01T23:18:20.374325Z",
     "iopub.status.idle": "2024-10-01T23:19:48.591297Z",
     "shell.execute_reply": "2024-10-01T23:19:48.589559Z"
    },
    "papermill": {
     "duration": 88.22648,
     "end_time": "2024-10-01T23:19:48.595211",
     "exception": false,
     "start_time": "2024-10-01T23:18:20.368731",
     "status": "completed"
    },
    "tags": []
   },
   "outputs": [
    {
     "data": {
      "text/html": [
       "<style>#sk-container-id-1 {color: black;background-color: white;}#sk-container-id-1 pre{padding: 0;}#sk-container-id-1 div.sk-toggleable {background-color: white;}#sk-container-id-1 label.sk-toggleable__label {cursor: pointer;display: block;width: 100%;margin-bottom: 0;padding: 0.3em;box-sizing: border-box;text-align: center;}#sk-container-id-1 label.sk-toggleable__label-arrow:before {content: \"▸\";float: left;margin-right: 0.25em;color: #696969;}#sk-container-id-1 label.sk-toggleable__label-arrow:hover:before {color: black;}#sk-container-id-1 div.sk-estimator:hover label.sk-toggleable__label-arrow:before {color: black;}#sk-container-id-1 div.sk-toggleable__content {max-height: 0;max-width: 0;overflow: hidden;text-align: left;background-color: #f0f8ff;}#sk-container-id-1 div.sk-toggleable__content pre {margin: 0.2em;color: black;border-radius: 0.25em;background-color: #f0f8ff;}#sk-container-id-1 input.sk-toggleable__control:checked~div.sk-toggleable__content {max-height: 200px;max-width: 100%;overflow: auto;}#sk-container-id-1 input.sk-toggleable__control:checked~label.sk-toggleable__label-arrow:before {content: \"▾\";}#sk-container-id-1 div.sk-estimator input.sk-toggleable__control:checked~label.sk-toggleable__label {background-color: #d4ebff;}#sk-container-id-1 div.sk-label input.sk-toggleable__control:checked~label.sk-toggleable__label {background-color: #d4ebff;}#sk-container-id-1 input.sk-hidden--visually {border: 0;clip: rect(1px 1px 1px 1px);clip: rect(1px, 1px, 1px, 1px);height: 1px;margin: -1px;overflow: hidden;padding: 0;position: absolute;width: 1px;}#sk-container-id-1 div.sk-estimator {font-family: monospace;background-color: #f0f8ff;border: 1px dotted black;border-radius: 0.25em;box-sizing: border-box;margin-bottom: 0.5em;}#sk-container-id-1 div.sk-estimator:hover {background-color: #d4ebff;}#sk-container-id-1 div.sk-parallel-item::after {content: \"\";width: 100%;border-bottom: 1px solid gray;flex-grow: 1;}#sk-container-id-1 div.sk-label:hover label.sk-toggleable__label {background-color: #d4ebff;}#sk-container-id-1 div.sk-serial::before {content: \"\";position: absolute;border-left: 1px solid gray;box-sizing: border-box;top: 0;bottom: 0;left: 50%;z-index: 0;}#sk-container-id-1 div.sk-serial {display: flex;flex-direction: column;align-items: center;background-color: white;padding-right: 0.2em;padding-left: 0.2em;position: relative;}#sk-container-id-1 div.sk-item {position: relative;z-index: 1;}#sk-container-id-1 div.sk-parallel {display: flex;align-items: stretch;justify-content: center;background-color: white;position: relative;}#sk-container-id-1 div.sk-item::before, #sk-container-id-1 div.sk-parallel-item::before {content: \"\";position: absolute;border-left: 1px solid gray;box-sizing: border-box;top: 0;bottom: 0;left: 50%;z-index: -1;}#sk-container-id-1 div.sk-parallel-item {display: flex;flex-direction: column;z-index: 1;position: relative;background-color: white;}#sk-container-id-1 div.sk-parallel-item:first-child::after {align-self: flex-end;width: 50%;}#sk-container-id-1 div.sk-parallel-item:last-child::after {align-self: flex-start;width: 50%;}#sk-container-id-1 div.sk-parallel-item:only-child::after {width: 0;}#sk-container-id-1 div.sk-dashed-wrapped {border: 1px dashed gray;margin: 0 0.4em 0.5em 0.4em;box-sizing: border-box;padding-bottom: 0.4em;background-color: white;}#sk-container-id-1 div.sk-label label {font-family: monospace;font-weight: bold;display: inline-block;line-height: 1.2em;}#sk-container-id-1 div.sk-label-container {text-align: center;}#sk-container-id-1 div.sk-container {/* jupyter's `normalize.less` sets `[hidden] { display: none; }` but bootstrap.min.css set `[hidden] { display: none !important; }` so we also need the `!important` here to be able to override the default hidden behavior on the sphinx rendered scikit-learn.org. See: https://github.com/scikit-learn/scikit-learn/issues/21755 */display: inline-block !important;position: relative;}#sk-container-id-1 div.sk-text-repr-fallback {display: none;}</style><div id=\"sk-container-id-1\" class=\"sk-top-container\"><div class=\"sk-text-repr-fallback\"><pre>LogisticRegression(max_iter=1000)</pre><b>In a Jupyter environment, please rerun this cell to show the HTML representation or trust the notebook. <br />On GitHub, the HTML representation is unable to render, please try loading this page with nbviewer.org.</b></div><div class=\"sk-container\" hidden><div class=\"sk-item\"><div class=\"sk-estimator sk-toggleable\"><input class=\"sk-toggleable__control sk-hidden--visually\" id=\"sk-estimator-id-1\" type=\"checkbox\" checked><label for=\"sk-estimator-id-1\" class=\"sk-toggleable__label sk-toggleable__label-arrow\">LogisticRegression</label><div class=\"sk-toggleable__content\"><pre>LogisticRegression(max_iter=1000)</pre></div></div></div></div></div>"
      ],
      "text/plain": [
       "LogisticRegression(max_iter=1000)"
      ]
     },
     "execution_count": 5,
     "metadata": {},
     "output_type": "execute_result"
    }
   ],
   "source": [
    "model = LogisticRegression(max_iter=1000)\n",
    "model.fit(X_train_vectorized, train_labels)"
   ]
  },
  {
   "cell_type": "code",
   "execution_count": 6,
   "id": "379c33fe",
   "metadata": {
    "execution": {
     "iopub.execute_input": "2024-10-01T23:19:48.625095Z",
     "iopub.status.busy": "2024-10-01T23:19:48.624472Z",
     "iopub.status.idle": "2024-10-01T23:19:48.668814Z",
     "shell.execute_reply": "2024-10-01T23:19:48.667594Z"
    },
    "papermill": {
     "duration": 0.065335,
     "end_time": "2024-10-01T23:19:48.671625",
     "exception": false,
     "start_time": "2024-10-01T23:19:48.606290",
     "status": "completed"
    },
    "tags": []
   },
   "outputs": [],
   "source": [
    "y_pred = model.predict(X_test_vectorized)\n",
    "accuracy = accuracy_score(test_labels, y_pred)"
   ]
  },
  {
   "cell_type": "code",
   "execution_count": 7,
   "id": "7acc4524",
   "metadata": {
    "execution": {
     "iopub.execute_input": "2024-10-01T23:19:48.683713Z",
     "iopub.status.busy": "2024-10-01T23:19:48.682390Z",
     "iopub.status.idle": "2024-10-01T23:19:48.736239Z",
     "shell.execute_reply": "2024-10-01T23:19:48.735151Z"
    },
    "papermill": {
     "duration": 0.062385,
     "end_time": "2024-10-01T23:19:48.738923",
     "exception": false,
     "start_time": "2024-10-01T23:19:48.676538",
     "status": "completed"
    },
    "tags": []
   },
   "outputs": [
    {
     "name": "stdout",
     "output_type": "stream",
     "text": [
      "Accuracy: 0.87\n",
      "              precision    recall  f1-score   support\n",
      "\n",
      "           0       0.85      0.88      0.87     12500\n",
      "           1       0.88      0.85      0.86     12500\n",
      "\n",
      "    accuracy                           0.87     25000\n",
      "   macro avg       0.87      0.87      0.87     25000\n",
      "weighted avg       0.87      0.87      0.87     25000\n",
      "\n"
     ]
    }
   ],
   "source": [
    "print(f'Accuracy: {accuracy:.2f}')\n",
    "print(classification_report(test_labels, y_pred))"
   ]
  },
  {
   "cell_type": "code",
   "execution_count": 8,
   "id": "07519c6c",
   "metadata": {
    "execution": {
     "iopub.execute_input": "2024-10-01T23:19:48.750380Z",
     "iopub.status.busy": "2024-10-01T23:19:48.749648Z",
     "iopub.status.idle": "2024-10-01T23:19:48.754694Z",
     "shell.execute_reply": "2024-10-01T23:19:48.753621Z"
    },
    "papermill": {
     "duration": 0.013358,
     "end_time": "2024-10-01T23:19:48.757029",
     "exception": false,
     "start_time": "2024-10-01T23:19:48.743671",
     "status": "completed"
    },
    "tags": []
   },
   "outputs": [],
   "source": [
    "import numpy as np"
   ]
  },
  {
   "cell_type": "code",
   "execution_count": 9,
   "id": "f4ae9210",
   "metadata": {
    "execution": {
     "iopub.execute_input": "2024-10-01T23:19:48.768237Z",
     "iopub.status.busy": "2024-10-01T23:19:48.767770Z",
     "iopub.status.idle": "2024-10-01T23:19:48.782968Z",
     "shell.execute_reply": "2024-10-01T23:19:48.781354Z"
    },
    "papermill": {
     "duration": 0.023984,
     "end_time": "2024-10-01T23:19:48.785710",
     "exception": false,
     "start_time": "2024-10-01T23:19:48.761726",
     "status": "completed"
    },
    "tags": []
   },
   "outputs": [
    {
     "name": "stdout",
     "output_type": "stream",
     "text": [
      "An absolute masterpiece! The acting was phenomenal, and the storyline kept me hooked from beginning to end. A must-watch!\n",
      "Вероятность принадлежности к классу 1 (Положительный) : 94% \n",
      "\n",
      "I loved every moment of this film. The visuals were stunning, and the characters felt so real. It’s one of the best movies I’ve seen in a long time.\n",
      "Вероятность принадлежности к классу 1 (Положительный) : 95% \n",
      "\n",
      "This movie exceeded my expectations. The direction was brilliant, and the emotional depth of the plot was incredible. Highly recommend it!\n",
      "Вероятность принадлежности к классу 1 (Положительный) : 97% \n",
      "\n",
      "I found the movie to be a complete disappointment. The plot was predictable, and the characters were poorly developed.\n",
      "Вероятность принадлежности к классу 0 (Отрицательный) : 99% \n",
      "\n",
      "What a waste of time! The film was boring and dragged on with no real climax. I wouldn’t recommend watching it.\n",
      "Вероятность принадлежности к классу 0 (Отрицательный) : 98% \n",
      "\n",
      "Terrible acting and a weak storyline. I couldn’t wait for the movie to end. Definitely not worth the hype.\n",
      "Вероятность принадлежности к классу 0 (Отрицательный) : 96% \n",
      "\n"
     ]
    }
   ],
   "source": [
    "simple_review = [\"An absolute masterpiece! The acting was phenomenal, and the storyline kept me hooked from beginning to end. A must-watch!\",\n",
    "                 \"I loved every moment of this film. The visuals were stunning, and the characters felt so real. It’s one of the best movies I’ve seen in a long time.\",\n",
    "                 \"This movie exceeded my expectations. The direction was brilliant, and the emotional depth of the plot was incredible. Highly recommend it!\",\n",
    "                 \"I found the movie to be a complete disappointment. The plot was predictable, and the characters were poorly developed.\",\n",
    "                 \"What a waste of time! The film was boring and dragged on with no real climax. I wouldn’t recommend watching it.\",\n",
    "                 \"Terrible acting and a weak storyline. I couldn’t wait for the movie to end. Definitely not worth the hype.\"]\n",
    "\n",
    "for i in simple_review:\n",
    "    print(i)\n",
    "    vectorized_simple_review = vectorizer.transform([i])\n",
    "    predict = model.predict(vectorized_simple_review)\n",
    "    predict_probablities = model.predict_proba(vectorized_simple_review)\n",
    "    print(f\"Вероятность принадлежности к классу {predict[0]} ({'Положительный' if predict == 1 else 'Отрицательный'}) : {round(np.max(predict_probablities)*100)}% \\n\")"
   ]
  },
  {
   "cell_type": "code",
   "execution_count": null,
   "id": "90ee92fc",
   "metadata": {
    "papermill": {
     "duration": 0.00458,
     "end_time": "2024-10-01T23:19:48.795561",
     "exception": false,
     "start_time": "2024-10-01T23:19:48.790981",
     "status": "completed"
    },
    "tags": []
   },
   "outputs": [],
   "source": []
  }
 ],
 "metadata": {
  "kaggle": {
   "accelerator": "none",
   "dataSources": [
    {
     "datasetId": 5801698,
     "sourceId": 9527316,
     "sourceType": "datasetVersion"
    }
   ],
   "dockerImageVersionId": 30775,
   "isGpuEnabled": false,
   "isInternetEnabled": true,
   "language": "python",
   "sourceType": "notebook"
  },
  "kernelspec": {
   "display_name": "Python 3",
   "language": "python",
   "name": "python3"
  },
  "language_info": {
   "codemirror_mode": {
    "name": "ipython",
    "version": 3
   },
   "file_extension": ".py",
   "mimetype": "text/x-python",
   "name": "python",
   "nbconvert_exporter": "python",
   "pygments_lexer": "ipython3",
   "version": "3.10.14"
  },
  "papermill": {
   "default_parameters": {},
   "duration": 322.001304,
   "end_time": "2024-10-01T23:19:49.321721",
   "environment_variables": {},
   "exception": null,
   "input_path": "__notebook__.ipynb",
   "output_path": "__notebook__.ipynb",
   "parameters": {},
   "start_time": "2024-10-01T23:14:27.320417",
   "version": "2.6.0"
  }
 },
 "nbformat": 4,
 "nbformat_minor": 5
}
